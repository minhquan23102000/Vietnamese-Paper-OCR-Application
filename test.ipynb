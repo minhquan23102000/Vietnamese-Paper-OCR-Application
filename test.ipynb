{
 "cells": [
  {
   "cell_type": "code",
   "execution_count": 1,
   "metadata": {},
   "outputs": [],
   "source": [
    "from paper_ocr.detector import Detector\n",
    "from paper_ocr.image_transformer import ImageTransformer\n",
    "from paper_ocr.ocr_reader import OCRReader\n",
    "import cv2"
   ]
  },
  {
   "cell_type": "code",
   "execution_count": 2,
   "metadata": {},
   "outputs": [],
   "source": [
    "test_img = cv2.imread('id2.jpg')"
   ]
  },
  {
   "cell_type": "code",
   "execution_count": 3,
   "metadata": {},
   "outputs": [],
   "source": [
    "ocrReader = OCRReader()"
   ]
  },
  {
   "cell_type": "code",
   "execution_count": 4,
   "metadata": {},
   "outputs": [
    {
     "data": {
      "text/plain": [
       "{'id': '060093',\n",
       " 'name': 'NGUYÊN THÁI THIÊN MINH',\n",
       " 'birth_date': '16/10/1993',\n",
       " 'gender': 'Nam',\n",
       " 'address': 'Thôn Hiệp Đức 1 Chí Công, Tuy Phong, Bình Thuận .',\n",
       " 'place_birth': 'Chí Công, Tuy Phong, Bình Thuận',\n",
       " 'date_expire': '16/10/2033'}"
      ]
     },
     "execution_count": 4,
     "metadata": {},
     "output_type": "execute_result"
    }
   ],
   "source": [
    "ocrReader.read('cccd', test_img)"
   ]
  },
  {
   "cell_type": "code",
   "execution_count": null,
   "metadata": {},
   "outputs": [],
   "source": []
  }
 ],
 "metadata": {
  "interpreter": {
   "hash": "5617015ebcd92099e594bc8a7fa6881d5fc8db87e5eb737b7df9724231fd3b74"
  },
  "kernelspec": {
   "display_name": "Python 3.7.12 ('vietnam_paper_ocr_app')",
   "language": "python",
   "name": "python3"
  },
  "language_info": {
   "codemirror_mode": {
    "name": "ipython",
    "version": 3
   },
   "file_extension": ".py",
   "mimetype": "text/x-python",
   "name": "python",
   "nbconvert_exporter": "python",
   "pygments_lexer": "ipython3",
   "version": "3.7.12"
  },
  "orig_nbformat": 4
 },
 "nbformat": 4,
 "nbformat_minor": 2
}
